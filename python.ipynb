{
  "nbformat": 4,
  "nbformat_minor": 0,
  "metadata": {
    "colab": {
      "provenance": [],
      "authorship_tag": "ABX9TyPACxfnl1tCDuebN1wkfHR2",
      "include_colab_link": true
    },
    "kernelspec": {
      "name": "python3",
      "display_name": "Python 3"
    },
    "language_info": {
      "name": "python"
    }
  },
  "cells": [
    {
      "cell_type": "markdown",
      "metadata": {
        "id": "view-in-github",
        "colab_type": "text"
      },
      "source": [
        "<a href=\"https://colab.research.google.com/github/fernphimlaphat/Web-Project/blob/main/python.ipynb\" target=\"_parent\"><img src=\"https://colab.research.google.com/assets/colab-badge.svg\" alt=\"Open In Colab\"/></a>"
      ]
    },
    {
      "cell_type": "code",
      "source": [
        "r = float(input('Enter r= '))\n",
        "area =r%3.14\n",
        "print('area= ',area)\n"
      ],
      "metadata": {
        "colab": {
          "base_uri": "https://localhost:8080/"
        },
        "id": "afR43oeRCOGS",
        "outputId": "2dfb881f-6404-47b2-ce88-ffd897db1294"
      },
      "execution_count": 32,
      "outputs": [
        {
          "output_type": "stream",
          "name": "stdout",
          "text": [
            "Enter r= 4\n",
            "Enter y= 2\n",
            "area=  8.0\n"
          ]
        }
      ]
    },
    {
      "cell_type": "code",
      "source": [
        "r = float(input('Enter r= '))\n",
        "y = float(input('Enter y= '))\n",
        "\n",
        "area =r*y\n",
        "print('area= ',area)\n"
      ],
      "metadata": {
        "id": "0N4bUedcLt_E"
      },
      "execution_count": null,
      "outputs": []
    },
    {
      "cell_type": "code",
      "source": [
        "w = (900)\n",
        "if w <=1000:\n",
        "  print(\"Road A\")\n",
        "elif w <= 2000:\n",
        "  print(\"Road B\")\n",
        "else :\n",
        "  print(\"Road C\")"
      ],
      "metadata": {
        "colab": {
          "base_uri": "https://localhost:8080/"
        },
        "id": "Yq_qTKK6Lv0j",
        "outputId": "6ed9659f-5e9f-45ab-90be-08b7b49d0233"
      },
      "execution_count": 46,
      "outputs": [
        {
          "output_type": "stream",
          "name": "stdout",
          "text": [
            "Road A\n"
          ]
        }
      ]
    },
    {
      "cell_type": "code",
      "source": [
        "def M(color,size):\n",
        "  if color == \"Green\":\n",
        "    print('raw')\n",
        "  elif color == \"Yellow\":\n",
        "    print('ripe')\n",
        "  else :\n",
        "    print('error')\n",
        "\n",
        "  if size <1:\n",
        "    print('smaller')\n",
        "  elif size >5:\n",
        "    print('big')\n",
        "  else :\n",
        "    print('error')\n",
        "\n",
        "\n",
        "M(\"Green\",7)"
      ],
      "metadata": {
        "colab": {
          "base_uri": "https://localhost:8080/"
        },
        "id": "GhN1Fl40YNbx",
        "outputId": "5e5dc38f-17fc-4e2e-f7e0-18021c64c1c7"
      },
      "execution_count": 62,
      "outputs": [
        {
          "output_type": "stream",
          "name": "stdout",
          "text": [
            "raw\n",
            "big\n"
          ]
        }
      ]
    }
  ]
}